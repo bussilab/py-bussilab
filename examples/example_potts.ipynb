{
 "cells": [
  {
   "cell_type": "code",
   "execution_count": 1,
   "metadata": {},
   "outputs": [],
   "source": [
    "from bussilab import potts\n",
    "import numpy as np\n",
    "import matplotlib.pyplot as plt"
   ]
  },
  {
   "cell_type": "code",
   "execution_count": 2,
   "metadata": {},
   "outputs": [],
   "source": [
    "m=potts.Model(6)"
   ]
  },
  {
   "cell_type": "code",
   "execution_count": 3,
   "metadata": {},
   "outputs": [
    {
     "data": {
      "text/plain": [
       "(array([0.88896261, 0.09934222, 0.45486963, 0.22375098, 0.9102452 ,\n",
       "        0.46952976]),\n",
       " array([[0.        , 0.44811401, 0.44179955, 0.60276147, 0.53811439,\n",
       "         0.59348674],\n",
       "        [0.44811401, 0.        , 0.7390881 , 0.67438462, 0.62920129,\n",
       "         0.39100428],\n",
       "        [0.44179955, 0.7390881 , 0.        , 0.51378989, 0.03647317,\n",
       "         0.28402245],\n",
       "        [0.60276147, 0.67438462, 0.51378989, 0.        , 0.70031567,\n",
       "         0.89372253],\n",
       "        [0.53811439, 0.62920129, 0.03647317, 0.70031567, 0.        ,\n",
       "         0.69047674],\n",
       "        [0.59348674, 0.39100428, 0.28402245, 0.89372253, 0.69047674,\n",
       "         0.        ]]))"
      ]
     },
     "execution_count": 3,
     "metadata": {},
     "output_type": "execute_result"
    }
   ],
   "source": [
    "h=np.random.uniform(size=6)\n",
    "J=np.reshape(np.random.uniform(size=36),(6,6))\n",
    "J=m.fixJ(J) # make symmetric and cancel diagonal\n",
    "h,J"
   ]
  },
  {
   "cell_type": "code",
   "execution_count": 4,
   "metadata": {},
   "outputs": [],
   "source": [
    "result=m.compute(h,J)"
   ]
  },
  {
   "cell_type": "code",
   "execution_count": 5,
   "metadata": {},
   "outputs": [],
   "source": [
    "infer=m.infer(result[1])\n",
    "h_inferred,J_inferred=infer.h,infer.J"
   ]
  },
  {
   "cell_type": "code",
   "execution_count": 6,
   "metadata": {},
   "outputs": [
    {
     "data": {
      "text/plain": [
       "(array([0.88896262, 0.09934222, 0.45486963, 0.22375098, 0.91024519,\n",
       "        0.46952976]),\n",
       " array([[0.        , 0.44811401, 0.44179955, 0.60276146, 0.5381144 ,\n",
       "         0.59348673],\n",
       "        [0.44811401, 0.        , 0.73908811, 0.67438462, 0.62920129,\n",
       "         0.39100428],\n",
       "        [0.44179955, 0.73908811, 0.        , 0.51378989, 0.03647317,\n",
       "         0.28402245],\n",
       "        [0.60276146, 0.67438462, 0.51378989, 0.        , 0.70031569,\n",
       "         0.89372252],\n",
       "        [0.5381144 , 0.62920129, 0.03647317, 0.70031569, 0.        ,\n",
       "         0.69047674],\n",
       "        [0.59348673, 0.39100428, 0.28402245, 0.89372252, 0.69047674,\n",
       "         0.        ]]))"
      ]
     },
     "execution_count": 6,
     "metadata": {},
     "output_type": "execute_result"
    }
   ],
   "source": [
    "h_inferred,J_inferred"
   ]
  },
  {
   "cell_type": "code",
   "execution_count": 7,
   "metadata": {},
   "outputs": [
    {
     "data": {
      "image/png": "[encoded data removed]",
      "text/plain": [
       "<Figure size 432x288 with 1 Axes>"
      ]
     },
     "metadata": {
      "needs_background": "light"
     },
     "output_type": "display_data"
    },
    {
     "data": {
      "text/plain": [
       "3.0177189225292775e-16"
      ]
     },
     "execution_count": 7,
     "metadata": {},
     "output_type": "execute_result"
    }
   ],
   "source": [
    "plt.plot(h,h_inferred,\"x\")\n",
    "plt.show()\n",
    "np.sum((h-h_inferred)**2)"
   ]
  },
  {
   "cell_type": "code",
   "execution_count": 8,
   "metadata": {},
   "outputs": [
    {
     "data": {
      "image/png": "[encoded data removed]",
      "text/plain": [
       "<Figure size 432x288 with 1 Axes>"
      ]
     },
     "metadata": {
      "needs_background": "light"
     },
     "output_type": "display_data"
    },
    {
     "data": {
      "text/plain": [
       "2.195972799014477e-15"
      ]
     },
     "execution_count": 8,
     "metadata": {},
     "output_type": "execute_result"
    }
   ],
   "source": [
    "plt.plot(J.flatten(),J_inferred.flatten(),\"x\")\n",
    "plt.show()\n",
    "np.sum((J-J_inferred)**2)"
   ]
  }
 ],
 "metadata": {
  "kernelspec": {
   "display_name": "Python 3",
   "language": "python",
   "name": "python3"
  },
  "language_info": {
   "codemirror_mode": {
    "name": "ipython",
    "version": 3
   },
   "file_extension": ".py",
   "mimetype": "text/x-python",
   "name": "python",
   "nbconvert_exporter": "python",
   "pygments_lexer": "ipython3",
   "version": "3.7.7"
  }
 },
 "nbformat": 4,
 "nbformat_minor": 4
}
