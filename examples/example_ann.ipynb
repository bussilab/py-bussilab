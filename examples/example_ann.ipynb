{
 "cells": [
  {
   "cell_type": "code",
   "execution_count": 1,
   "metadata": {},
   "outputs": [],
   "source": [
    "import numpy as np\n",
    "import pandas as pd\n",
    "import matplotlib.pyplot as plt\n",
    "from scipy.optimize import minimize\n",
    "import itertools\n",
    "\n",
    "from bussilab.ann import ANN\n",
    "from bussilab.ann import _softplus as softplus\n",
    "from bussilab.ann import _sigmoid as sigmoid"
   ]
  },
  {
   "cell_type": "code",
   "execution_count": 2,
   "metadata": {},
   "outputs": [],
   "source": [
    "np.random.seed(1977)"
   ]
  },
  {
   "cell_type": "markdown",
   "metadata": {},
   "source": [
    "# Fitting XOR function with a neural network\n",
    "\n",
    "This is a simple and known case where a linear function is not sufficient. I make some test below.\n",
    "\n",
    "Don't take it too seriously. Minimization is done with a straightforward L-BFGS. No regularization is used. It's mostly to see if minimizations work.\n",
    "\n",
    "Before starting I define some tool."
   ]
  },
  {
   "cell_type": "code",
   "execution_count": 3,
   "metadata": {},
   "outputs": [],
   "source": [
    "# Function generating a random set of data points\n",
    "def random_data(nfeatures,nsamples):\n",
    "    return np.array(np.random.randint(2,size=(nsamples,nfeatures)),dtype=float)"
   ]
  },
  {
   "cell_type": "code",
   "execution_count": 4,
   "metadata": {},
   "outputs": [],
   "source": [
    "# Function enumerating all the possible data points\n",
    "def enumerate_data(nfeatures):\n",
    "    return np.array([list(i) for i in itertools.product([0, 1], repeat=nfeatures)],dtype=float)"
   ]
  },
  {
   "cell_type": "code",
   "execution_count": 5,
   "metadata": {},
   "outputs": [],
   "source": [
    "# XOR function\n",
    "def xor(samples):\n",
    "    return np.array(np.sum(samples,axis=1)%2,dtype=float)"
   ]
  },
  {
   "cell_type": "code",
   "execution_count": 6,
   "metadata": {},
   "outputs": [],
   "source": [
    "# Print confusion matrix\n",
    "def confusion_matrix(ref,predict):\n",
    "    print(\"confusion matrix:\")\n",
    "    TP=np.sum(np.logical_and(ref>0.5,predict>0.5))\n",
    "    FP=np.sum(np.logical_and(ref<0.5,predict>0.5))\n",
    "    FN=np.sum(np.logical_and(ref>0.5,predict<0.5))\n",
    "    TN=np.sum(np.logical_and(ref<0.5,predict<0.5))\n",
    "    print(\"TP\",TP)\n",
    "    print(\"FP\",FP)\n",
    "    print(\"FN\",FN)\n",
    "    print(\"TN\",TN)\n",
    "    print(\"MCC\",(TP*TN-FP*FN)/np.sqrt((TP+FP)*(TP+FN)*(TN+FP)*(TN+FN)))"
   ]
  },
  {
   "cell_type": "code",
   "execution_count": 7,
   "metadata": {},
   "outputs": [],
   "source": [
    "# Compute MCC\n",
    "def MCC(ref,predict):\n",
    "    TP=np.sum(np.logical_and(ref>0.5,predict>0.5))\n",
    "    FP=np.sum(np.logical_and(ref<0.5,predict>0.5))\n",
    "    FN=np.sum(np.logical_and(ref>0.5,predict<0.5))\n",
    "    TN=np.sum(np.logical_and(ref<0.5,predict<0.5))\n",
    "    return (TP*TN-FP*FN)/np.sqrt((TP+FP)*(TP+FN)*(TN+FP)*(TN+FN))"
   ]
  },
  {
   "cell_type": "code",
   "execution_count": 8,
   "metadata": {},
   "outputs": [],
   "source": [
    "# loss function\n",
    "def function(x,ann,samples,labels,reg=0.0):\n",
    "    ann.setpar(x)\n",
    "    f=ann.derparVec(samples)\n",
    "    loss=0\n",
    "    dloss=np.zeros(ann.npar)\n",
    "    loss=np.sum(softplus(f[0]*(1-2*labels)))\n",
    "    dloss=np.matmul(f[1].T*(1-2*labels),sigmoid(f[0]*(1-2*labels)))\n",
    "    loss/=len(samples)\n",
    "    dloss/=len(samples)\n",
    "    loss+=0.5*reg*np.sum(x[:ann.nparW]**2)\n",
    "    dloss[:ann.nparW]+=reg*x[:ann.nparW]\n",
    "    return loss,dloss"
   ]
  },
  {
   "cell_type": "code",
   "execution_count": 9,
   "metadata": {},
   "outputs": [],
   "source": [
    "# print a set of data and labels with pandas\n",
    "def to_pandas(data,labels):\n",
    "    df=pd.DataFrame(np.vstack((data.T,labels)).T)\n",
    "    columns={}\n",
    "    for i in range(data.shape[1]):\n",
    "        columns[i]=\"v\"+str(i+1)\n",
    "    columns[data.shape[1]]=\"label\"\n",
    "    df=df.rename(columns=columns)\n",
    "    return df"
   ]
  },
  {
   "cell_type": "markdown",
   "metadata": {},
   "source": [
    "## Simple XOR (2 inputs)\n",
    "First I do a simple test with 2 features. The function that I want to fit has this form"
   ]
  },
  {
   "cell_type": "code",
   "execution_count": 10,
   "metadata": {},
   "outputs": [
    {
     "data": {
      "text/html": [
       "<div>\n",
       "<style scoped>\n",
       "    .dataframe tbody tr th:only-of-type {\n",
       "        vertical-align: middle;\n",
       "    }\n",
       "\n",
       "    .dataframe tbody tr th {\n",
       "        vertical-align: top;\n",
       "    }\n",
       "\n",
       "    .dataframe thead th {\n",
       "        text-align: right;\n",
       "    }\n",
       "</style>\n",
       "<table border=\"1\" class=\"dataframe\">\n",
       "  <thead>\n",
       "    <tr style=\"text-align: right;\">\n",
       "      <th></th>\n",
       "      <th>v1</th>\n",
       "      <th>v2</th>\n",
       "      <th>label</th>\n",
       "    </tr>\n",
       "  </thead>\n",
       "  <tbody>\n",
       "    <tr>\n",
       "      <th>0</th>\n",
       "      <td>0.0</td>\n",
       "      <td>0.0</td>\n",
       "      <td>0.0</td>\n",
       "    </tr>\n",
       "    <tr>\n",
       "      <th>1</th>\n",
       "      <td>0.0</td>\n",
       "      <td>1.0</td>\n",
       "      <td>1.0</td>\n",
       "    </tr>\n",
       "    <tr>\n",
       "      <th>2</th>\n",
       "      <td>1.0</td>\n",
       "      <td>0.0</td>\n",
       "      <td>1.0</td>\n",
       "    </tr>\n",
       "    <tr>\n",
       "      <th>3</th>\n",
       "      <td>1.0</td>\n",
       "      <td>1.0</td>\n",
       "      <td>0.0</td>\n",
       "    </tr>\n",
       "  </tbody>\n",
       "</table>\n",
       "</div>"
      ],
      "text/plain": [
       "    v1   v2  label\n",
       "0  0.0  0.0    0.0\n",
       "1  0.0  1.0    1.0\n",
       "2  1.0  0.0    1.0\n",
       "3  1.0  1.0    0.0"
      ]
     },
     "execution_count": 10,
     "metadata": {},
     "output_type": "execute_result"
    }
   ],
   "source": [
    "data=enumerate_data(2)\n",
    "labels=xor(data)\n",
    "to_pandas(data,labels)"
   ]
  },
  {
   "cell_type": "code",
   "execution_count": 11,
   "metadata": {},
   "outputs": [
    {
     "name": "stdout",
     "output_type": "stream",
     "text": [
      "9\n"
     ]
    }
   ],
   "source": [
    "# Create a neural network with a hidden layer\n",
    "np.random.seed(1977)\n",
    "ann=ANN([2,2],random_weights=True)\n",
    "print(ann.npar)"
   ]
  },
  {
   "cell_type": "code",
   "execution_count": 12,
   "metadata": {},
   "outputs": [],
   "source": [
    "m=minimize(function,ann.getpar(),args=(ann,data,labels),jac=True,method='L-BFGS-B')"
   ]
  },
  {
   "cell_type": "code",
   "execution_count": 13,
   "metadata": {},
   "outputs": [
    {
     "data": {
      "text/plain": [
       "      fun: 7.756714568907734e-06\n",
       " hess_inv: <9x9 LbfgsInvHessProduct with dtype=float64>\n",
       "      jac: array([ 5.40980938e-09, -2.24247548e-60,  2.44496266e-24, -3.73314744e-24,\n",
       "       -1.20660671e-10, -1.80610430e-24,  5.40980938e-09, -3.73314744e-24,\n",
       "       -7.75659424e-06])\n",
       "  message: b'CONVERGENCE: NORM_OF_PROJECTED_GRADIENT_<=_PGTOL'\n",
       "     nfev: 47\n",
       "      nit: 37\n",
       "     njev: 47\n",
       "   status: 0\n",
       "  success: True\n",
       "        x: array([-39.7939478 , -80.01996576,  20.81215892,  82.90679882,\n",
       "       -44.83525081,  68.45773319,  28.72288391, -49.78680876,\n",
       "        10.38133927])"
      ]
     },
     "execution_count": 13,
     "metadata": {},
     "output_type": "execute_result"
    }
   ],
   "source": [
    "m"
   ]
  },
  {
   "cell_type": "markdown",
   "metadata": {},
   "source": [
    "I then test the prediction on the enumeration of all states"
   ]
  },
  {
   "cell_type": "code",
   "execution_count": 14,
   "metadata": {},
   "outputs": [
    {
     "data": {
      "text/html": [
       "<div>\n",
       "<style scoped>\n",
       "    .dataframe tbody tr th:only-of-type {\n",
       "        vertical-align: middle;\n",
       "    }\n",
       "\n",
       "    .dataframe tbody tr th {\n",
       "        vertical-align: top;\n",
       "    }\n",
       "\n",
       "    .dataframe thead th {\n",
       "        text-align: right;\n",
       "    }\n",
       "</style>\n",
       "<table border=\"1\" class=\"dataframe\">\n",
       "  <thead>\n",
       "    <tr style=\"text-align: right;\">\n",
       "      <th></th>\n",
       "      <th>v1</th>\n",
       "      <th>v2</th>\n",
       "      <th>label</th>\n",
       "    </tr>\n",
       "  </thead>\n",
       "  <tbody>\n",
       "    <tr>\n",
       "      <th>0</th>\n",
       "      <td>0.0</td>\n",
       "      <td>0.0</td>\n",
       "      <td>0.000000e+00</td>\n",
       "    </tr>\n",
       "    <tr>\n",
       "      <th>1</th>\n",
       "      <td>0.0</td>\n",
       "      <td>1.0</td>\n",
       "      <td>1.000000e+00</td>\n",
       "    </tr>\n",
       "    <tr>\n",
       "      <th>2</th>\n",
       "      <td>1.0</td>\n",
       "      <td>0.0</td>\n",
       "      <td>9.999690e-01</td>\n",
       "    </tr>\n",
       "    <tr>\n",
       "      <th>3</th>\n",
       "      <td>1.0</td>\n",
       "      <td>1.0</td>\n",
       "      <td>6.787556e-186</td>\n",
       "    </tr>\n",
       "  </tbody>\n",
       "</table>\n",
       "</div>"
      ],
      "text/plain": [
       "    v1   v2          label\n",
       "0  0.0  0.0   0.000000e+00\n",
       "1  0.0  1.0   1.000000e+00\n",
       "2  1.0  0.0   9.999690e-01\n",
       "3  1.0  1.0  6.787556e-186"
      ]
     },
     "execution_count": 14,
     "metadata": {},
     "output_type": "execute_result"
    }
   ],
   "source": [
    "ann.setpar(m.x)\n",
    "to_pandas(data,sigmoid(ann.applyVec(data)))"
   ]
  },
  {
   "cell_type": "code",
   "execution_count": 15,
   "metadata": {},
   "outputs": [
    {
     "name": "stdout",
     "output_type": "stream",
     "text": [
      "confusion matrix:\n",
      "TP 2\n",
      "FP 0\n",
      "FN 0\n",
      "TN 2\n",
      "MCC 1.0\n"
     ]
    }
   ],
   "source": [
    "confusion_matrix(xor(data),sigmoid(ann.applyVec(data)))"
   ]
  },
  {
   "cell_type": "markdown",
   "metadata": {},
   "source": [
    "For comparison I can try without hidden layers (a linear model)."
   ]
  },
  {
   "cell_type": "code",
   "execution_count": 16,
   "metadata": {},
   "outputs": [
    {
     "name": "stdout",
     "output_type": "stream",
     "text": [
      "      fun: 0.6931471805803846\n",
      " hess_inv: <3x3 LbfgsInvHessProduct with dtype=float64>\n",
      "      jac: array([1.64085643e-06, 1.27680647e-06, 7.50758938e-07])\n",
      "  message: b'CONVERGENCE: NORM_OF_PROJECTED_GRADIENT_<=_PGTOL'\n",
      "     nfev: 10\n",
      "      nit: 9\n",
      "     njev: 10\n",
      "   status: 0\n",
      "  success: True\n",
      "        x: array([ 2.02476313e-05,  1.44228320e-05, -1.43321959e-05])\n"
     ]
    }
   ],
   "source": [
    "np.random.seed(1977)\n",
    "ann=ANN([2],random_weights=True)\n",
    "m=minimize(function,ann.getpar(),args=(ann,data,labels),jac=True,method='L-BFGS-B')\n",
    "print(m)\n",
    "ann.setpar(m.x)\n"
   ]
  },
  {
   "cell_type": "code",
   "execution_count": 17,
   "metadata": {},
   "outputs": [
    {
     "data": {
      "text/html": [
       "<div>\n",
       "<style scoped>\n",
       "    .dataframe tbody tr th:only-of-type {\n",
       "        vertical-align: middle;\n",
       "    }\n",
       "\n",
       "    .dataframe tbody tr th {\n",
       "        vertical-align: top;\n",
       "    }\n",
       "\n",
       "    .dataframe thead th {\n",
       "        text-align: right;\n",
       "    }\n",
       "</style>\n",
       "<table border=\"1\" class=\"dataframe\">\n",
       "  <thead>\n",
       "    <tr style=\"text-align: right;\">\n",
       "      <th></th>\n",
       "      <th>v1</th>\n",
       "      <th>v2</th>\n",
       "      <th>label</th>\n",
       "    </tr>\n",
       "  </thead>\n",
       "  <tbody>\n",
       "    <tr>\n",
       "      <th>0</th>\n",
       "      <td>0.0</td>\n",
       "      <td>0.0</td>\n",
       "      <td>0.499996</td>\n",
       "    </tr>\n",
       "    <tr>\n",
       "      <th>1</th>\n",
       "      <td>0.0</td>\n",
       "      <td>1.0</td>\n",
       "      <td>0.500000</td>\n",
       "    </tr>\n",
       "    <tr>\n",
       "      <th>2</th>\n",
       "      <td>1.0</td>\n",
       "      <td>0.0</td>\n",
       "      <td>0.500001</td>\n",
       "    </tr>\n",
       "    <tr>\n",
       "      <th>3</th>\n",
       "      <td>1.0</td>\n",
       "      <td>1.0</td>\n",
       "      <td>0.500005</td>\n",
       "    </tr>\n",
       "  </tbody>\n",
       "</table>\n",
       "</div>"
      ],
      "text/plain": [
       "    v1   v2     label\n",
       "0  0.0  0.0  0.499996\n",
       "1  0.0  1.0  0.500000\n",
       "2  1.0  0.0  0.500001\n",
       "3  1.0  1.0  0.500005"
      ]
     },
     "execution_count": 17,
     "metadata": {},
     "output_type": "execute_result"
    }
   ],
   "source": [
    "to_pandas(data,sigmoid(ann.applyVec(data)))"
   ]
  },
  {
   "cell_type": "code",
   "execution_count": 18,
   "metadata": {},
   "outputs": [
    {
     "name": "stdout",
     "output_type": "stream",
     "text": [
      "confusion matrix:\n",
      "TP 2\n",
      "FP 1\n",
      "FN 0\n",
      "TN 1\n",
      "MCC 0.5773502691896258\n"
     ]
    }
   ],
   "source": [
    "confusion_matrix(xor(data),sigmoid(ann.applyVec(data)))"
   ]
  },
  {
   "cell_type": "markdown",
   "metadata": {},
   "source": [
    "As expected it does not work."
   ]
  },
  {
   "cell_type": "markdown",
   "metadata": {},
   "source": [
    "## Higher dimensional input\n",
    "\n",
    "I now try to make it more complicated using a higher dimensional input"
   ]
  },
  {
   "cell_type": "code",
   "execution_count": 19,
   "metadata": {},
   "outputs": [
    {
     "data": {
      "text/html": [
       "<div>\n",
       "<style scoped>\n",
       "    .dataframe tbody tr th:only-of-type {\n",
       "        vertical-align: middle;\n",
       "    }\n",
       "\n",
       "    .dataframe tbody tr th {\n",
       "        vertical-align: top;\n",
       "    }\n",
       "\n",
       "    .dataframe thead th {\n",
       "        text-align: right;\n",
       "    }\n",
       "</style>\n",
       "<table border=\"1\" class=\"dataframe\">\n",
       "  <thead>\n",
       "    <tr style=\"text-align: right;\">\n",
       "      <th></th>\n",
       "      <th>v1</th>\n",
       "      <th>v2</th>\n",
       "      <th>v3</th>\n",
       "      <th>label</th>\n",
       "    </tr>\n",
       "  </thead>\n",
       "  <tbody>\n",
       "    <tr>\n",
       "      <th>0</th>\n",
       "      <td>0.0</td>\n",
       "      <td>0.0</td>\n",
       "      <td>0.0</td>\n",
       "      <td>0.0</td>\n",
       "    </tr>\n",
       "    <tr>\n",
       "      <th>1</th>\n",
       "      <td>0.0</td>\n",
       "      <td>0.0</td>\n",
       "      <td>1.0</td>\n",
       "      <td>1.0</td>\n",
       "    </tr>\n",
       "    <tr>\n",
       "      <th>2</th>\n",
       "      <td>0.0</td>\n",
       "      <td>1.0</td>\n",
       "      <td>0.0</td>\n",
       "      <td>1.0</td>\n",
       "    </tr>\n",
       "    <tr>\n",
       "      <th>3</th>\n",
       "      <td>0.0</td>\n",
       "      <td>1.0</td>\n",
       "      <td>1.0</td>\n",
       "      <td>0.0</td>\n",
       "    </tr>\n",
       "    <tr>\n",
       "      <th>4</th>\n",
       "      <td>1.0</td>\n",
       "      <td>0.0</td>\n",
       "      <td>0.0</td>\n",
       "      <td>1.0</td>\n",
       "    </tr>\n",
       "    <tr>\n",
       "      <th>5</th>\n",
       "      <td>1.0</td>\n",
       "      <td>0.0</td>\n",
       "      <td>1.0</td>\n",
       "      <td>0.0</td>\n",
       "    </tr>\n",
       "    <tr>\n",
       "      <th>6</th>\n",
       "      <td>1.0</td>\n",
       "      <td>1.0</td>\n",
       "      <td>0.0</td>\n",
       "      <td>0.0</td>\n",
       "    </tr>\n",
       "    <tr>\n",
       "      <th>7</th>\n",
       "      <td>1.0</td>\n",
       "      <td>1.0</td>\n",
       "      <td>1.0</td>\n",
       "      <td>1.0</td>\n",
       "    </tr>\n",
       "  </tbody>\n",
       "</table>\n",
       "</div>"
      ],
      "text/plain": [
       "    v1   v2   v3  label\n",
       "0  0.0  0.0  0.0    0.0\n",
       "1  0.0  0.0  1.0    1.0\n",
       "2  0.0  1.0  0.0    1.0\n",
       "3  0.0  1.0  1.0    0.0\n",
       "4  1.0  0.0  0.0    1.0\n",
       "5  1.0  0.0  1.0    0.0\n",
       "6  1.0  1.0  0.0    0.0\n",
       "7  1.0  1.0  1.0    1.0"
      ]
     },
     "execution_count": 19,
     "metadata": {},
     "output_type": "execute_result"
    }
   ],
   "source": [
    "data=enumerate_data(3)\n",
    "labels=xor(data)\n",
    "to_pandas(data,labels)"
   ]
  },
  {
   "cell_type": "code",
   "execution_count": 20,
   "metadata": {},
   "outputs": [
    {
     "name": "stdout",
     "output_type": "stream",
     "text": [
      "16\n",
      "      fun: 0.28116778509019663\n",
      " hess_inv: <16x16 LbfgsInvHessProduct with dtype=float64>\n",
      "      jac: array([ 3.49616717e-15,  9.29759693e-08,  2.14210670e-08, -7.22171188e-17,\n",
      "        5.21738145e-08,  6.66699361e-10,  8.28323277e-28, -4.95254429e-08,\n",
      "        2.20877664e-08, -2.15516674e-14,  5.23607465e-08,  3.20479310e-10,\n",
      "        3.50076709e-15,  1.45149784e-07,  2.20877664e-08,  3.26309000e-06])\n",
      "  message: b'CONVERGENCE: NORM_OF_PROJECTED_GRADIENT_<=_PGTOL'\n",
      "     nfev: 78\n",
      "      nit: 55\n",
      "     njev: 78\n",
      "   status: 0\n",
      "  success: True\n",
      "        x: array([  1.71673905, -85.1563573 , -67.26520936,  -4.93837536,\n",
      "       -85.69433872, -70.33917078, -24.15434701,  20.49684691,\n",
      "       106.74677962,  -0.16238963,  -2.74773255,  69.88008804,\n",
      "       -29.69859749,  71.6995034 , -43.02444598,   1.09864846])\n"
     ]
    }
   ],
   "source": [
    "np.random.seed(1977)\n",
    "ann=ANN([3,3],random_weights=True)\n",
    "print(ann.npar)\n",
    "m=minimize(function,ann.getpar(),args=(ann,data,labels),jac=True,method='L-BFGS-B')\n",
    "print(m)\n",
    "ann.setpar(m.x)"
   ]
  },
  {
   "cell_type": "code",
   "execution_count": 21,
   "metadata": {},
   "outputs": [
    {
     "data": {
      "text/html": [
       "<div>\n",
       "<style scoped>\n",
       "    .dataframe tbody tr th:only-of-type {\n",
       "        vertical-align: middle;\n",
       "    }\n",
       "\n",
       "    .dataframe tbody tr th {\n",
       "        vertical-align: top;\n",
       "    }\n",
       "\n",
       "    .dataframe thead th {\n",
       "        text-align: right;\n",
       "    }\n",
       "</style>\n",
       "<table border=\"1\" class=\"dataframe\">\n",
       "  <thead>\n",
       "    <tr style=\"text-align: right;\">\n",
       "      <th></th>\n",
       "      <th>v1</th>\n",
       "      <th>v2</th>\n",
       "      <th>v3</th>\n",
       "      <th>label</th>\n",
       "    </tr>\n",
       "  </thead>\n",
       "  <tbody>\n",
       "    <tr>\n",
       "      <th>0</th>\n",
       "      <td>0.0</td>\n",
       "      <td>0.0</td>\n",
       "      <td>0.0</td>\n",
       "      <td>8.247473e-86</td>\n",
       "    </tr>\n",
       "    <tr>\n",
       "      <th>1</th>\n",
       "      <td>0.0</td>\n",
       "      <td>0.0</td>\n",
       "      <td>1.0</td>\n",
       "      <td>1.000000e+00</td>\n",
       "    </tr>\n",
       "    <tr>\n",
       "      <th>2</th>\n",
       "      <td>0.0</td>\n",
       "      <td>1.0</td>\n",
       "      <td>0.0</td>\n",
       "      <td>7.500064e-01</td>\n",
       "    </tr>\n",
       "    <tr>\n",
       "      <th>3</th>\n",
       "      <td>0.0</td>\n",
       "      <td>1.0</td>\n",
       "      <td>1.0</td>\n",
       "      <td>5.713510e-08</td>\n",
       "    </tr>\n",
       "    <tr>\n",
       "      <th>4</th>\n",
       "      <td>1.0</td>\n",
       "      <td>0.0</td>\n",
       "      <td>0.0</td>\n",
       "      <td>7.500060e-01</td>\n",
       "    </tr>\n",
       "    <tr>\n",
       "      <th>5</th>\n",
       "      <td>1.0</td>\n",
       "      <td>0.0</td>\n",
       "      <td>1.0</td>\n",
       "      <td>8.721975e-08</td>\n",
       "    </tr>\n",
       "    <tr>\n",
       "      <th>6</th>\n",
       "      <td>1.0</td>\n",
       "      <td>1.0</td>\n",
       "      <td>0.0</td>\n",
       "      <td>7.500068e-01</td>\n",
       "    </tr>\n",
       "    <tr>\n",
       "      <th>7</th>\n",
       "      <td>1.0</td>\n",
       "      <td>1.0</td>\n",
       "      <td>1.0</td>\n",
       "      <td>7.500068e-01</td>\n",
       "    </tr>\n",
       "  </tbody>\n",
       "</table>\n",
       "</div>"
      ],
      "text/plain": [
       "    v1   v2   v3         label\n",
       "0  0.0  0.0  0.0  8.247473e-86\n",
       "1  0.0  0.0  1.0  1.000000e+00\n",
       "2  0.0  1.0  0.0  7.500064e-01\n",
       "3  0.0  1.0  1.0  5.713510e-08\n",
       "4  1.0  0.0  0.0  7.500060e-01\n",
       "5  1.0  0.0  1.0  8.721975e-08\n",
       "6  1.0  1.0  0.0  7.500068e-01\n",
       "7  1.0  1.0  1.0  7.500068e-01"
      ]
     },
     "execution_count": 21,
     "metadata": {},
     "output_type": "execute_result"
    }
   ],
   "source": [
    "to_pandas(data,sigmoid(ann.applyVec(data)))"
   ]
  },
  {
   "cell_type": "code",
   "execution_count": 22,
   "metadata": {},
   "outputs": [
    {
     "name": "stdout",
     "output_type": "stream",
     "text": [
      "confusion matrix:\n",
      "TP 4\n",
      "FP 1\n",
      "FN 0\n",
      "TN 3\n",
      "MCC 0.7745966692414834\n"
     ]
    }
   ],
   "source": [
    "confusion_matrix(xor(data),sigmoid(ann.applyVec(data)))"
   ]
  },
  {
   "cell_type": "markdown",
   "metadata": {},
   "source": [
    "Not perfect"
   ]
  },
  {
   "cell_type": "markdown",
   "metadata": {},
   "source": [
    "# Even higher dimensional input"
   ]
  },
  {
   "cell_type": "code",
   "execution_count": 23,
   "metadata": {},
   "outputs": [
    {
     "data": {
      "text/html": [
       "<div>\n",
       "<style scoped>\n",
       "    .dataframe tbody tr th:only-of-type {\n",
       "        vertical-align: middle;\n",
       "    }\n",
       "\n",
       "    .dataframe tbody tr th {\n",
       "        vertical-align: top;\n",
       "    }\n",
       "\n",
       "    .dataframe thead th {\n",
       "        text-align: right;\n",
       "    }\n",
       "</style>\n",
       "<table border=\"1\" class=\"dataframe\">\n",
       "  <thead>\n",
       "    <tr style=\"text-align: right;\">\n",
       "      <th></th>\n",
       "      <th>v1</th>\n",
       "      <th>v2</th>\n",
       "      <th>v3</th>\n",
       "      <th>v4</th>\n",
       "      <th>v5</th>\n",
       "      <th>v6</th>\n",
       "      <th>label</th>\n",
       "    </tr>\n",
       "  </thead>\n",
       "  <tbody>\n",
       "    <tr>\n",
       "      <th>0</th>\n",
       "      <td>0.0</td>\n",
       "      <td>0.0</td>\n",
       "      <td>0.0</td>\n",
       "      <td>0.0</td>\n",
       "      <td>0.0</td>\n",
       "      <td>0.0</td>\n",
       "      <td>0.0</td>\n",
       "    </tr>\n",
       "    <tr>\n",
       "      <th>1</th>\n",
       "      <td>0.0</td>\n",
       "      <td>0.0</td>\n",
       "      <td>0.0</td>\n",
       "      <td>0.0</td>\n",
       "      <td>0.0</td>\n",
       "      <td>1.0</td>\n",
       "      <td>1.0</td>\n",
       "    </tr>\n",
       "    <tr>\n",
       "      <th>2</th>\n",
       "      <td>0.0</td>\n",
       "      <td>0.0</td>\n",
       "      <td>0.0</td>\n",
       "      <td>0.0</td>\n",
       "      <td>1.0</td>\n",
       "      <td>0.0</td>\n",
       "      <td>1.0</td>\n",
       "    </tr>\n",
       "    <tr>\n",
       "      <th>3</th>\n",
       "      <td>0.0</td>\n",
       "      <td>0.0</td>\n",
       "      <td>0.0</td>\n",
       "      <td>0.0</td>\n",
       "      <td>1.0</td>\n",
       "      <td>1.0</td>\n",
       "      <td>0.0</td>\n",
       "    </tr>\n",
       "    <tr>\n",
       "      <th>4</th>\n",
       "      <td>0.0</td>\n",
       "      <td>0.0</td>\n",
       "      <td>0.0</td>\n",
       "      <td>1.0</td>\n",
       "      <td>0.0</td>\n",
       "      <td>0.0</td>\n",
       "      <td>1.0</td>\n",
       "    </tr>\n",
       "    <tr>\n",
       "      <th>...</th>\n",
       "      <td>...</td>\n",
       "      <td>...</td>\n",
       "      <td>...</td>\n",
       "      <td>...</td>\n",
       "      <td>...</td>\n",
       "      <td>...</td>\n",
       "      <td>...</td>\n",
       "    </tr>\n",
       "    <tr>\n",
       "      <th>59</th>\n",
       "      <td>1.0</td>\n",
       "      <td>1.0</td>\n",
       "      <td>1.0</td>\n",
       "      <td>0.0</td>\n",
       "      <td>1.0</td>\n",
       "      <td>1.0</td>\n",
       "      <td>1.0</td>\n",
       "    </tr>\n",
       "    <tr>\n",
       "      <th>60</th>\n",
       "      <td>1.0</td>\n",
       "      <td>1.0</td>\n",
       "      <td>1.0</td>\n",
       "      <td>1.0</td>\n",
       "      <td>0.0</td>\n",
       "      <td>0.0</td>\n",
       "      <td>0.0</td>\n",
       "    </tr>\n",
       "    <tr>\n",
       "      <th>61</th>\n",
       "      <td>1.0</td>\n",
       "      <td>1.0</td>\n",
       "      <td>1.0</td>\n",
       "      <td>1.0</td>\n",
       "      <td>0.0</td>\n",
       "      <td>1.0</td>\n",
       "      <td>1.0</td>\n",
       "    </tr>\n",
       "    <tr>\n",
       "      <th>62</th>\n",
       "      <td>1.0</td>\n",
       "      <td>1.0</td>\n",
       "      <td>1.0</td>\n",
       "      <td>1.0</td>\n",
       "      <td>1.0</td>\n",
       "      <td>0.0</td>\n",
       "      <td>1.0</td>\n",
       "    </tr>\n",
       "    <tr>\n",
       "      <th>63</th>\n",
       "      <td>1.0</td>\n",
       "      <td>1.0</td>\n",
       "      <td>1.0</td>\n",
       "      <td>1.0</td>\n",
       "      <td>1.0</td>\n",
       "      <td>1.0</td>\n",
       "      <td>0.0</td>\n",
       "    </tr>\n",
       "  </tbody>\n",
       "</table>\n",
       "<p>64 rows × 7 columns</p>\n",
       "</div>"
      ],
      "text/plain": [
       "     v1   v2   v3   v4   v5   v6  label\n",
       "0   0.0  0.0  0.0  0.0  0.0  0.0    0.0\n",
       "1   0.0  0.0  0.0  0.0  0.0  1.0    1.0\n",
       "2   0.0  0.0  0.0  0.0  1.0  0.0    1.0\n",
       "3   0.0  0.0  0.0  0.0  1.0  1.0    0.0\n",
       "4   0.0  0.0  0.0  1.0  0.0  0.0    1.0\n",
       "..  ...  ...  ...  ...  ...  ...    ...\n",
       "59  1.0  1.0  1.0  0.0  1.0  1.0    1.0\n",
       "60  1.0  1.0  1.0  1.0  0.0  0.0    0.0\n",
       "61  1.0  1.0  1.0  1.0  0.0  1.0    1.0\n",
       "62  1.0  1.0  1.0  1.0  1.0  0.0    1.0\n",
       "63  1.0  1.0  1.0  1.0  1.0  1.0    0.0\n",
       "\n",
       "[64 rows x 7 columns]"
      ]
     },
     "execution_count": 23,
     "metadata": {},
     "output_type": "execute_result"
    }
   ],
   "source": [
    "data=enumerate_data(6)\n",
    "labels=xor(data)\n",
    "to_pandas(data,labels)"
   ]
  },
  {
   "cell_type": "code",
   "execution_count": 24,
   "metadata": {},
   "outputs": [
    {
     "name": "stdout",
     "output_type": "stream",
     "text": [
      "49\n",
      "      fun: 0.6931474351747715\n",
      " hess_inv: <49x49 LbfgsInvHessProduct with dtype=float64>\n",
      "      jac: array([ 3.25767805e-06, -4.45800023e-08,  6.13219662e-07,  1.03915614e-07,\n",
      "       -1.77794844e-07,  8.99210181e-07,  2.62025811e-06,  4.94406872e-08,\n",
      "        6.42420840e-07,  8.55975430e-08, -1.88820349e-07,  9.58153942e-07,\n",
      "        5.69402609e-07,  2.08724346e-07,  1.83302302e-07, -7.02755371e-09,\n",
      "       -3.66108037e-08,  4.15135622e-07,  2.62106876e-07,  3.89269396e-07,\n",
      "        1.29893821e-07,  2.26738582e-08, -1.75655091e-08,  1.81250708e-08,\n",
      "       -1.18638837e-07,  3.41322777e-07,  2.38130413e-08, -3.69003295e-08,\n",
      "        2.44537419e-08,  1.25949625e-07, -1.61842012e-07,  3.42390650e-07,\n",
      "       -1.03439299e-07, -4.72874342e-08,  5.86713789e-08, -2.92289927e-07,\n",
      "       -2.54287167e-05, -2.81305810e-06, -3.93753547e-05, -1.71464354e-05,\n",
      "       -1.19676760e-05, -2.77238404e-05,  1.28032202e-06,  6.39585650e-07,\n",
      "        2.42900417e-07,  2.05636143e-08, -5.46476564e-08,  3.42171424e-07,\n",
      "       -3.64105043e-05])\n",
      "  message: b'CONVERGENCE: REL_REDUCTION_OF_F_<=_FACTR*EPSMCH'\n",
      "     nfev: 30\n",
      "      nit: 23\n",
      "     njev: 30\n",
      "   status: 0\n",
      "  success: True\n",
      "        x: array([ 0.05915299, -0.70210674,  0.01247773,  0.57563623, -0.1055125 ,\n",
      "       -0.37261939, -0.00676534,  0.40696862,  0.31141023, -0.78695524,\n",
      "       -0.11905184,  0.12798898, -0.21834044, -0.58303895, -0.10931376,\n",
      "       -0.30243194, -0.02528496,  0.50167166, -0.0477758 ,  0.52672461,\n",
      "        0.27984244, -0.21010779, -0.42648372,  0.06761365, -0.31155701,\n",
      "       -0.46676284,  0.65216138, -0.37727624,  0.27888954,  0.36615468,\n",
      "       -0.0171879 , -0.77475066,  0.21066751,  0.21046211,  0.00483423,\n",
      "       -0.40750749, -0.07069531,  0.01270268, -0.01066102, -0.00321202,\n",
      "        0.00491403, -0.02110534, -0.02260542, -0.18915565, -0.13800729,\n",
      "       -0.18092642, -0.05457159, -0.04626614,  0.06047874])\n"
     ]
    }
   ],
   "source": [
    "np.random.seed(1977)\n",
    "ann=ANN([6,6],random_weights=True)\n",
    "print(ann.npar)\n",
    "m=minimize(function,ann.getpar(),args=(ann,data,labels),jac=True,method='L-BFGS-B')\n",
    "print(m)\n",
    "ann.setpar(m.x)"
   ]
  },
  {
   "cell_type": "code",
   "execution_count": 25,
   "metadata": {},
   "outputs": [
    {
     "data": {
      "text/html": [
       "<div>\n",
       "<style scoped>\n",
       "    .dataframe tbody tr th:only-of-type {\n",
       "        vertical-align: middle;\n",
       "    }\n",
       "\n",
       "    .dataframe tbody tr th {\n",
       "        vertical-align: top;\n",
       "    }\n",
       "\n",
       "    .dataframe thead th {\n",
       "        text-align: right;\n",
       "    }\n",
       "</style>\n",
       "<table border=\"1\" class=\"dataframe\">\n",
       "  <thead>\n",
       "    <tr style=\"text-align: right;\">\n",
       "      <th></th>\n",
       "      <th>v1</th>\n",
       "      <th>v2</th>\n",
       "      <th>v3</th>\n",
       "      <th>v4</th>\n",
       "      <th>v5</th>\n",
       "      <th>v6</th>\n",
       "      <th>label</th>\n",
       "    </tr>\n",
       "  </thead>\n",
       "  <tbody>\n",
       "    <tr>\n",
       "      <th>0</th>\n",
       "      <td>0.0</td>\n",
       "      <td>0.0</td>\n",
       "      <td>0.0</td>\n",
       "      <td>0.0</td>\n",
       "      <td>0.0</td>\n",
       "      <td>0.0</td>\n",
       "      <td>0.500108</td>\n",
       "    </tr>\n",
       "    <tr>\n",
       "      <th>1</th>\n",
       "      <td>0.0</td>\n",
       "      <td>0.0</td>\n",
       "      <td>0.0</td>\n",
       "      <td>0.0</td>\n",
       "      <td>0.0</td>\n",
       "      <td>1.0</td>\n",
       "      <td>0.499955</td>\n",
       "    </tr>\n",
       "    <tr>\n",
       "      <th>2</th>\n",
       "      <td>0.0</td>\n",
       "      <td>0.0</td>\n",
       "      <td>0.0</td>\n",
       "      <td>0.0</td>\n",
       "      <td>1.0</td>\n",
       "      <td>0.0</td>\n",
       "      <td>0.500350</td>\n",
       "    </tr>\n",
       "    <tr>\n",
       "      <th>3</th>\n",
       "      <td>0.0</td>\n",
       "      <td>0.0</td>\n",
       "      <td>0.0</td>\n",
       "      <td>0.0</td>\n",
       "      <td>1.0</td>\n",
       "      <td>1.0</td>\n",
       "      <td>0.500539</td>\n",
       "    </tr>\n",
       "    <tr>\n",
       "      <th>4</th>\n",
       "      <td>0.0</td>\n",
       "      <td>0.0</td>\n",
       "      <td>0.0</td>\n",
       "      <td>1.0</td>\n",
       "      <td>0.0</td>\n",
       "      <td>0.0</td>\n",
       "      <td>0.500682</td>\n",
       "    </tr>\n",
       "    <tr>\n",
       "      <th>...</th>\n",
       "      <td>...</td>\n",
       "      <td>...</td>\n",
       "      <td>...</td>\n",
       "      <td>...</td>\n",
       "      <td>...</td>\n",
       "      <td>...</td>\n",
       "      <td>...</td>\n",
       "    </tr>\n",
       "    <tr>\n",
       "      <th>59</th>\n",
       "      <td>1.0</td>\n",
       "      <td>1.0</td>\n",
       "      <td>1.0</td>\n",
       "      <td>0.0</td>\n",
       "      <td>1.0</td>\n",
       "      <td>1.0</td>\n",
       "      <td>0.500206</td>\n",
       "    </tr>\n",
       "    <tr>\n",
       "      <th>60</th>\n",
       "      <td>1.0</td>\n",
       "      <td>1.0</td>\n",
       "      <td>1.0</td>\n",
       "      <td>1.0</td>\n",
       "      <td>0.0</td>\n",
       "      <td>0.0</td>\n",
       "      <td>0.499695</td>\n",
       "    </tr>\n",
       "    <tr>\n",
       "      <th>61</th>\n",
       "      <td>1.0</td>\n",
       "      <td>1.0</td>\n",
       "      <td>1.0</td>\n",
       "      <td>1.0</td>\n",
       "      <td>0.0</td>\n",
       "      <td>1.0</td>\n",
       "      <td>0.499846</td>\n",
       "    </tr>\n",
       "    <tr>\n",
       "      <th>62</th>\n",
       "      <td>1.0</td>\n",
       "      <td>1.0</td>\n",
       "      <td>1.0</td>\n",
       "      <td>1.0</td>\n",
       "      <td>1.0</td>\n",
       "      <td>0.0</td>\n",
       "      <td>0.499309</td>\n",
       "    </tr>\n",
       "    <tr>\n",
       "      <th>63</th>\n",
       "      <td>1.0</td>\n",
       "      <td>1.0</td>\n",
       "      <td>1.0</td>\n",
       "      <td>1.0</td>\n",
       "      <td>1.0</td>\n",
       "      <td>1.0</td>\n",
       "      <td>0.499772</td>\n",
       "    </tr>\n",
       "  </tbody>\n",
       "</table>\n",
       "<p>64 rows × 7 columns</p>\n",
       "</div>"
      ],
      "text/plain": [
       "     v1   v2   v3   v4   v5   v6     label\n",
       "0   0.0  0.0  0.0  0.0  0.0  0.0  0.500108\n",
       "1   0.0  0.0  0.0  0.0  0.0  1.0  0.499955\n",
       "2   0.0  0.0  0.0  0.0  1.0  0.0  0.500350\n",
       "3   0.0  0.0  0.0  0.0  1.0  1.0  0.500539\n",
       "4   0.0  0.0  0.0  1.0  0.0  0.0  0.500682\n",
       "..  ...  ...  ...  ...  ...  ...       ...\n",
       "59  1.0  1.0  1.0  0.0  1.0  1.0  0.500206\n",
       "60  1.0  1.0  1.0  1.0  0.0  0.0  0.499695\n",
       "61  1.0  1.0  1.0  1.0  0.0  1.0  0.499846\n",
       "62  1.0  1.0  1.0  1.0  1.0  0.0  0.499309\n",
       "63  1.0  1.0  1.0  1.0  1.0  1.0  0.499772\n",
       "\n",
       "[64 rows x 7 columns]"
      ]
     },
     "execution_count": 25,
     "metadata": {},
     "output_type": "execute_result"
    }
   ],
   "source": [
    "to_pandas(data,sigmoid(ann.applyVec(data)))"
   ]
  },
  {
   "cell_type": "code",
   "execution_count": 26,
   "metadata": {},
   "outputs": [
    {
     "name": "stdout",
     "output_type": "stream",
     "text": [
      "confusion matrix:\n",
      "TP 17\n",
      "FP 14\n",
      "FN 15\n",
      "TN 18\n",
      "MCC 0.09379580992210836\n"
     ]
    }
   ],
   "source": [
    "confusion_matrix(xor(data),sigmoid(ann.applyVec(data)))"
   ]
  },
  {
   "cell_type": "markdown",
   "metadata": {},
   "source": [
    "Here it's not working at all"
   ]
  },
  {
   "cell_type": "markdown",
   "metadata": {},
   "source": [
    "# Robustness of output"
   ]
  },
  {
   "cell_type": "markdown",
   "metadata": {},
   "source": [
    "I now check how the result depends on the initial weights. For with the 2 dimension input."
   ]
  },
  {
   "cell_type": "code",
   "execution_count": 27,
   "metadata": {},
   "outputs": [
    {
     "data": {
      "text/html": [
       "<div>\n",
       "<style scoped>\n",
       "    .dataframe tbody tr th:only-of-type {\n",
       "        vertical-align: middle;\n",
       "    }\n",
       "\n",
       "    .dataframe tbody tr th {\n",
       "        vertical-align: top;\n",
       "    }\n",
       "\n",
       "    .dataframe thead th {\n",
       "        text-align: right;\n",
       "    }\n",
       "</style>\n",
       "<table border=\"1\" class=\"dataframe\">\n",
       "  <thead>\n",
       "    <tr style=\"text-align: right;\">\n",
       "      <th></th>\n",
       "      <th>v1</th>\n",
       "      <th>v2</th>\n",
       "      <th>label</th>\n",
       "    </tr>\n",
       "  </thead>\n",
       "  <tbody>\n",
       "    <tr>\n",
       "      <th>0</th>\n",
       "      <td>0.0</td>\n",
       "      <td>0.0</td>\n",
       "      <td>0.0</td>\n",
       "    </tr>\n",
       "    <tr>\n",
       "      <th>1</th>\n",
       "      <td>0.0</td>\n",
       "      <td>1.0</td>\n",
       "      <td>1.0</td>\n",
       "    </tr>\n",
       "    <tr>\n",
       "      <th>2</th>\n",
       "      <td>1.0</td>\n",
       "      <td>0.0</td>\n",
       "      <td>1.0</td>\n",
       "    </tr>\n",
       "    <tr>\n",
       "      <th>3</th>\n",
       "      <td>1.0</td>\n",
       "      <td>1.0</td>\n",
       "      <td>0.0</td>\n",
       "    </tr>\n",
       "  </tbody>\n",
       "</table>\n",
       "</div>"
      ],
      "text/plain": [
       "    v1   v2  label\n",
       "0  0.0  0.0    0.0\n",
       "1  0.0  1.0    1.0\n",
       "2  1.0  0.0    1.0\n",
       "3  1.0  1.0    0.0"
      ]
     },
     "execution_count": 27,
     "metadata": {},
     "output_type": "execute_result"
    }
   ],
   "source": [
    "data=enumerate_data(2)\n",
    "labels=xor(data)\n",
    "to_pandas(data,labels)"
   ]
  },
  {
   "cell_type": "code",
   "execution_count": 28,
   "metadata": {},
   "outputs": [],
   "source": [
    "res=[]\n",
    "par=[]\n",
    "np.random.seed(1977)\n",
    "for i in range(300):\n",
    "    ann=ANN([2,2],random_weights=True)\n",
    "    m=minimize(function,ann.getpar(),args=(ann,data,labels),jac=True,method='L-BFGS-B')\n",
    "    res.append(m.fun)\n",
    "    par.append(m.x)"
   ]
  },
  {
   "cell_type": "code",
   "execution_count": 29,
   "metadata": {},
   "outputs": [
    {
     "data": {
      "text/plain": [
       "[<matplotlib.lines.Line2D at 0x11c0a7810>]"
      ]
     },
     "execution_count": 29,
     "metadata": {},
     "output_type": "execute_result"
    },
    {
     "data": {
      "image/png": "[encoded data removed]",
      "text/plain": [
       "<Figure size 432x288 with 1 Axes>"
      ]
     },
     "metadata": {
      "needs_background": "light"
     },
     "output_type": "display_data"
    }
   ],
   "source": [
    "plt.xlabel(\"rank\")\n",
    "plt.ylabel(\"loss\")\n",
    "plt.plot(np.sort(res),\"x-\")"
   ]
  },
  {
   "cell_type": "markdown",
   "metadata": {},
   "source": [
    "Most of the time it works, but sometimes it doesn't."
   ]
  },
  {
   "cell_type": "markdown",
   "metadata": {},
   "source": [
    "Then the 3D case"
   ]
  },
  {
   "cell_type": "code",
   "execution_count": 30,
   "metadata": {},
   "outputs": [
    {
     "data": {
      "text/html": [
       "<div>\n",
       "<style scoped>\n",
       "    .dataframe tbody tr th:only-of-type {\n",
       "        vertical-align: middle;\n",
       "    }\n",
       "\n",
       "    .dataframe tbody tr th {\n",
       "        vertical-align: top;\n",
       "    }\n",
       "\n",
       "    .dataframe thead th {\n",
       "        text-align: right;\n",
       "    }\n",
       "</style>\n",
       "<table border=\"1\" class=\"dataframe\">\n",
       "  <thead>\n",
       "    <tr style=\"text-align: right;\">\n",
       "      <th></th>\n",
       "      <th>v1</th>\n",
       "      <th>v2</th>\n",
       "      <th>v3</th>\n",
       "      <th>label</th>\n",
       "    </tr>\n",
       "  </thead>\n",
       "  <tbody>\n",
       "    <tr>\n",
       "      <th>0</th>\n",
       "      <td>0.0</td>\n",
       "      <td>0.0</td>\n",
       "      <td>0.0</td>\n",
       "      <td>0.0</td>\n",
       "    </tr>\n",
       "    <tr>\n",
       "      <th>1</th>\n",
       "      <td>0.0</td>\n",
       "      <td>0.0</td>\n",
       "      <td>1.0</td>\n",
       "      <td>1.0</td>\n",
       "    </tr>\n",
       "    <tr>\n",
       "      <th>2</th>\n",
       "      <td>0.0</td>\n",
       "      <td>1.0</td>\n",
       "      <td>0.0</td>\n",
       "      <td>1.0</td>\n",
       "    </tr>\n",
       "    <tr>\n",
       "      <th>3</th>\n",
       "      <td>0.0</td>\n",
       "      <td>1.0</td>\n",
       "      <td>1.0</td>\n",
       "      <td>0.0</td>\n",
       "    </tr>\n",
       "    <tr>\n",
       "      <th>4</th>\n",
       "      <td>1.0</td>\n",
       "      <td>0.0</td>\n",
       "      <td>0.0</td>\n",
       "      <td>1.0</td>\n",
       "    </tr>\n",
       "    <tr>\n",
       "      <th>5</th>\n",
       "      <td>1.0</td>\n",
       "      <td>0.0</td>\n",
       "      <td>1.0</td>\n",
       "      <td>0.0</td>\n",
       "    </tr>\n",
       "    <tr>\n",
       "      <th>6</th>\n",
       "      <td>1.0</td>\n",
       "      <td>1.0</td>\n",
       "      <td>0.0</td>\n",
       "      <td>0.0</td>\n",
       "    </tr>\n",
       "    <tr>\n",
       "      <th>7</th>\n",
       "      <td>1.0</td>\n",
       "      <td>1.0</td>\n",
       "      <td>1.0</td>\n",
       "      <td>1.0</td>\n",
       "    </tr>\n",
       "  </tbody>\n",
       "</table>\n",
       "</div>"
      ],
      "text/plain": [
       "    v1   v2   v3  label\n",
       "0  0.0  0.0  0.0    0.0\n",
       "1  0.0  0.0  1.0    1.0\n",
       "2  0.0  1.0  0.0    1.0\n",
       "3  0.0  1.0  1.0    0.0\n",
       "4  1.0  0.0  0.0    1.0\n",
       "5  1.0  0.0  1.0    0.0\n",
       "6  1.0  1.0  0.0    0.0\n",
       "7  1.0  1.0  1.0    1.0"
      ]
     },
     "execution_count": 30,
     "metadata": {},
     "output_type": "execute_result"
    }
   ],
   "source": [
    "data=enumerate_data(3)\n",
    "labels=xor(data)\n",
    "to_pandas(data,labels)"
   ]
  },
  {
   "cell_type": "code",
   "execution_count": 31,
   "metadata": {},
   "outputs": [],
   "source": [
    "res=[]\n",
    "par=[]\n",
    "np.random.seed(1977)\n",
    "for i in range(300):\n",
    "    ann=ANN([3,3],random_weights=True)\n",
    "    m=minimize(function,ann.getpar(),args=(ann,data,labels),jac=True,method='L-BFGS-B')\n",
    "    res.append(m.fun)\n",
    "    par.append(m.x)"
   ]
  },
  {
   "cell_type": "code",
   "execution_count": 32,
   "metadata": {},
   "outputs": [
    {
     "data": {
      "text/plain": [
       "[<matplotlib.lines.Line2D at 0x11c1c29d0>]"
      ]
     },
     "execution_count": 32,
     "metadata": {},
     "output_type": "execute_result"
    },
    {
     "data": {
      "image/png": "[encoded data removed]",
      "text/plain": [
       "<Figure size 432x288 with 1 Axes>"
      ]
     },
     "metadata": {
      "needs_background": "light"
     },
     "output_type": "display_data"
    }
   ],
   "source": [
    "plt.xlabel(\"rank\")\n",
    "plt.ylabel(\"loss\")\n",
    "plt.plot(np.sort(res),\"x-\")"
   ]
  },
  {
   "cell_type": "markdown",
   "metadata": {},
   "source": [
    "I try with a deeper architecture"
   ]
  },
  {
   "cell_type": "code",
   "execution_count": 33,
   "metadata": {},
   "outputs": [],
   "source": [
    "res=[]\n",
    "par=[]\n",
    "np.random.seed(1977)\n",
    "for i in range(300):\n",
    "    ann=ANN([3,3,3],random_weights=True)\n",
    "    m=minimize(function,ann.getpar(),args=(ann,data,labels),jac=True,method='L-BFGS-B')\n",
    "    res.append(m.fun)\n",
    "    par.append(m.x)"
   ]
  },
  {
   "cell_type": "code",
   "execution_count": 34,
   "metadata": {},
   "outputs": [
    {
     "data": {
      "text/plain": [
       "[<matplotlib.lines.Line2D at 0x11c2f4610>]"
      ]
     },
     "execution_count": 34,
     "metadata": {},
     "output_type": "execute_result"
    },
    {
     "data": {
      "image/png": "[encoded data removed]",
      "text/plain": [
       "<Figure size 432x288 with 1 Axes>"
      ]
     },
     "metadata": {
      "needs_background": "light"
     },
     "output_type": "display_data"
    }
   ],
   "source": [
    "plt.xlabel(\"rank\")\n",
    "plt.ylabel(\"loss\")\n",
    "plt.plot(np.sort(res),\"x-\")"
   ]
  },
  {
   "cell_type": "markdown",
   "metadata": {},
   "source": [
    "The fraction of cases in which I am able to make a perfect classifier seems higher. Not sure how this is general."
   ]
  },
  {
   "cell_type": "markdown",
   "metadata": {},
   "source": [
    "I then try with an even larger input."
   ]
  },
  {
   "cell_type": "code",
   "execution_count": 35,
   "metadata": {},
   "outputs": [
    {
     "data": {
      "text/html": [
       "<div>\n",
       "<style scoped>\n",
       "    .dataframe tbody tr th:only-of-type {\n",
       "        vertical-align: middle;\n",
       "    }\n",
       "\n",
       "    .dataframe tbody tr th {\n",
       "        vertical-align: top;\n",
       "    }\n",
       "\n",
       "    .dataframe thead th {\n",
       "        text-align: right;\n",
       "    }\n",
       "</style>\n",
       "<table border=\"1\" class=\"dataframe\">\n",
       "  <thead>\n",
       "    <tr style=\"text-align: right;\">\n",
       "      <th></th>\n",
       "      <th>v1</th>\n",
       "      <th>v2</th>\n",
       "      <th>v3</th>\n",
       "      <th>v4</th>\n",
       "      <th>v5</th>\n",
       "      <th>v6</th>\n",
       "      <th>label</th>\n",
       "    </tr>\n",
       "  </thead>\n",
       "  <tbody>\n",
       "    <tr>\n",
       "      <th>0</th>\n",
       "      <td>0.0</td>\n",
       "      <td>0.0</td>\n",
       "      <td>0.0</td>\n",
       "      <td>0.0</td>\n",
       "      <td>0.0</td>\n",
       "      <td>0.0</td>\n",
       "      <td>0.0</td>\n",
       "    </tr>\n",
       "    <tr>\n",
       "      <th>1</th>\n",
       "      <td>0.0</td>\n",
       "      <td>0.0</td>\n",
       "      <td>0.0</td>\n",
       "      <td>0.0</td>\n",
       "      <td>0.0</td>\n",
       "      <td>1.0</td>\n",
       "      <td>1.0</td>\n",
       "    </tr>\n",
       "    <tr>\n",
       "      <th>2</th>\n",
       "      <td>0.0</td>\n",
       "      <td>0.0</td>\n",
       "      <td>0.0</td>\n",
       "      <td>0.0</td>\n",
       "      <td>1.0</td>\n",
       "      <td>0.0</td>\n",
       "      <td>1.0</td>\n",
       "    </tr>\n",
       "    <tr>\n",
       "      <th>3</th>\n",
       "      <td>0.0</td>\n",
       "      <td>0.0</td>\n",
       "      <td>0.0</td>\n",
       "      <td>0.0</td>\n",
       "      <td>1.0</td>\n",
       "      <td>1.0</td>\n",
       "      <td>0.0</td>\n",
       "    </tr>\n",
       "    <tr>\n",
       "      <th>4</th>\n",
       "      <td>0.0</td>\n",
       "      <td>0.0</td>\n",
       "      <td>0.0</td>\n",
       "      <td>1.0</td>\n",
       "      <td>0.0</td>\n",
       "      <td>0.0</td>\n",
       "      <td>1.0</td>\n",
       "    </tr>\n",
       "    <tr>\n",
       "      <th>...</th>\n",
       "      <td>...</td>\n",
       "      <td>...</td>\n",
       "      <td>...</td>\n",
       "      <td>...</td>\n",
       "      <td>...</td>\n",
       "      <td>...</td>\n",
       "      <td>...</td>\n",
       "    </tr>\n",
       "    <tr>\n",
       "      <th>59</th>\n",
       "      <td>1.0</td>\n",
       "      <td>1.0</td>\n",
       "      <td>1.0</td>\n",
       "      <td>0.0</td>\n",
       "      <td>1.0</td>\n",
       "      <td>1.0</td>\n",
       "      <td>1.0</td>\n",
       "    </tr>\n",
       "    <tr>\n",
       "      <th>60</th>\n",
       "      <td>1.0</td>\n",
       "      <td>1.0</td>\n",
       "      <td>1.0</td>\n",
       "      <td>1.0</td>\n",
       "      <td>0.0</td>\n",
       "      <td>0.0</td>\n",
       "      <td>0.0</td>\n",
       "    </tr>\n",
       "    <tr>\n",
       "      <th>61</th>\n",
       "      <td>1.0</td>\n",
       "      <td>1.0</td>\n",
       "      <td>1.0</td>\n",
       "      <td>1.0</td>\n",
       "      <td>0.0</td>\n",
       "      <td>1.0</td>\n",
       "      <td>1.0</td>\n",
       "    </tr>\n",
       "    <tr>\n",
       "      <th>62</th>\n",
       "      <td>1.0</td>\n",
       "      <td>1.0</td>\n",
       "      <td>1.0</td>\n",
       "      <td>1.0</td>\n",
       "      <td>1.0</td>\n",
       "      <td>0.0</td>\n",
       "      <td>1.0</td>\n",
       "    </tr>\n",
       "    <tr>\n",
       "      <th>63</th>\n",
       "      <td>1.0</td>\n",
       "      <td>1.0</td>\n",
       "      <td>1.0</td>\n",
       "      <td>1.0</td>\n",
       "      <td>1.0</td>\n",
       "      <td>1.0</td>\n",
       "      <td>0.0</td>\n",
       "    </tr>\n",
       "  </tbody>\n",
       "</table>\n",
       "<p>64 rows × 7 columns</p>\n",
       "</div>"
      ],
      "text/plain": [
       "     v1   v2   v3   v4   v5   v6  label\n",
       "0   0.0  0.0  0.0  0.0  0.0  0.0    0.0\n",
       "1   0.0  0.0  0.0  0.0  0.0  1.0    1.0\n",
       "2   0.0  0.0  0.0  0.0  1.0  0.0    1.0\n",
       "3   0.0  0.0  0.0  0.0  1.0  1.0    0.0\n",
       "4   0.0  0.0  0.0  1.0  0.0  0.0    1.0\n",
       "..  ...  ...  ...  ...  ...  ...    ...\n",
       "59  1.0  1.0  1.0  0.0  1.0  1.0    1.0\n",
       "60  1.0  1.0  1.0  1.0  0.0  0.0    0.0\n",
       "61  1.0  1.0  1.0  1.0  0.0  1.0    1.0\n",
       "62  1.0  1.0  1.0  1.0  1.0  0.0    1.0\n",
       "63  1.0  1.0  1.0  1.0  1.0  1.0    0.0\n",
       "\n",
       "[64 rows x 7 columns]"
      ]
     },
     "execution_count": 35,
     "metadata": {},
     "output_type": "execute_result"
    }
   ],
   "source": [
    "data=enumerate_data(6)\n",
    "labels=xor(data)\n",
    "to_pandas(data,labels)"
   ]
  },
  {
   "cell_type": "code",
   "execution_count": 36,
   "metadata": {},
   "outputs": [],
   "source": [
    "res=[]\n",
    "par=[]\n",
    "np.random.seed(1977)\n",
    "for i in range(300):\n",
    "    ann=ANN([6,6],random_weights=True)\n",
    "    m=minimize(function,ann.getpar(),args=(ann,data,labels),jac=True,method='L-BFGS-B')\n",
    "    res.append(m.fun)\n",
    "    par.append(m.x)"
   ]
  },
  {
   "cell_type": "code",
   "execution_count": 37,
   "metadata": {},
   "outputs": [
    {
     "data": {
      "text/plain": [
       "[<matplotlib.lines.Line2D at 0x11c3d8a10>]"
      ]
     },
     "execution_count": 37,
     "metadata": {},
     "output_type": "execute_result"
    },
    {
     "data": {
      "image/png": "[encoded data removed]",
      "text/plain": [
       "<Figure size 432x288 with 1 Axes>"
      ]
     },
     "metadata": {
      "needs_background": "light"
     },
     "output_type": "display_data"
    }
   ],
   "source": [
    "plt.xlabel(\"rank\")\n",
    "plt.ylabel(\"loss\")\n",
    "\n",
    "plt.plot(np.sort(res),\"x-\")"
   ]
  },
  {
   "cell_type": "code",
   "execution_count": 38,
   "metadata": {},
   "outputs": [
    {
     "name": "stdout",
     "output_type": "stream",
     "text": [
      "confusion matrix:\n",
      "TP 26\n",
      "FP 1\n",
      "FN 6\n",
      "TN 31\n",
      "MCC 0.7909649964604158\n"
     ]
    }
   ],
   "source": [
    "ann.setpar(par[np.argmin(res)])\n",
    "confusion_matrix(xor(data),ann.applyVec(data))"
   ]
  },
  {
   "cell_type": "markdown",
   "metadata": {},
   "source": [
    "Not bad, but it happens rarely (once in 300 attempts!)"
   ]
  },
  {
   "cell_type": "markdown",
   "metadata": {},
   "source": [
    "# Limited dataset\n",
    "I then try to train the network with a limited number of examples. Here 8 over `2**3=8` possible states"
   ]
  },
  {
   "cell_type": "code",
   "execution_count": 39,
   "metadata": {},
   "outputs": [
    {
     "data": {
      "text/html": [
       "<div>\n",
       "<style scoped>\n",
       "    .dataframe tbody tr th:only-of-type {\n",
       "        vertical-align: middle;\n",
       "    }\n",
       "\n",
       "    .dataframe tbody tr th {\n",
       "        vertical-align: top;\n",
       "    }\n",
       "\n",
       "    .dataframe thead th {\n",
       "        text-align: right;\n",
       "    }\n",
       "</style>\n",
       "<table border=\"1\" class=\"dataframe\">\n",
       "  <thead>\n",
       "    <tr style=\"text-align: right;\">\n",
       "      <th></th>\n",
       "      <th>v1</th>\n",
       "      <th>v2</th>\n",
       "      <th>v3</th>\n",
       "      <th>label</th>\n",
       "    </tr>\n",
       "  </thead>\n",
       "  <tbody>\n",
       "    <tr>\n",
       "      <th>0</th>\n",
       "      <td>1.0</td>\n",
       "      <td>1.0</td>\n",
       "      <td>0.0</td>\n",
       "      <td>0.0</td>\n",
       "    </tr>\n",
       "    <tr>\n",
       "      <th>1</th>\n",
       "      <td>0.0</td>\n",
       "      <td>1.0</td>\n",
       "      <td>1.0</td>\n",
       "      <td>0.0</td>\n",
       "    </tr>\n",
       "    <tr>\n",
       "      <th>2</th>\n",
       "      <td>1.0</td>\n",
       "      <td>1.0</td>\n",
       "      <td>0.0</td>\n",
       "      <td>0.0</td>\n",
       "    </tr>\n",
       "    <tr>\n",
       "      <th>3</th>\n",
       "      <td>0.0</td>\n",
       "      <td>1.0</td>\n",
       "      <td>0.0</td>\n",
       "      <td>1.0</td>\n",
       "    </tr>\n",
       "    <tr>\n",
       "      <th>4</th>\n",
       "      <td>0.0</td>\n",
       "      <td>1.0</td>\n",
       "      <td>1.0</td>\n",
       "      <td>0.0</td>\n",
       "    </tr>\n",
       "    <tr>\n",
       "      <th>5</th>\n",
       "      <td>1.0</td>\n",
       "      <td>0.0</td>\n",
       "      <td>1.0</td>\n",
       "      <td>0.0</td>\n",
       "    </tr>\n",
       "    <tr>\n",
       "      <th>6</th>\n",
       "      <td>1.0</td>\n",
       "      <td>1.0</td>\n",
       "      <td>1.0</td>\n",
       "      <td>1.0</td>\n",
       "    </tr>\n",
       "    <tr>\n",
       "      <th>7</th>\n",
       "      <td>1.0</td>\n",
       "      <td>0.0</td>\n",
       "      <td>0.0</td>\n",
       "      <td>1.0</td>\n",
       "    </tr>\n",
       "  </tbody>\n",
       "</table>\n",
       "</div>"
      ],
      "text/plain": [
       "    v1   v2   v3  label\n",
       "0  1.0  1.0  0.0    0.0\n",
       "1  0.0  1.0  1.0    0.0\n",
       "2  1.0  1.0  0.0    0.0\n",
       "3  0.0  1.0  0.0    1.0\n",
       "4  0.0  1.0  1.0    0.0\n",
       "5  1.0  0.0  1.0    0.0\n",
       "6  1.0  1.0  1.0    1.0\n",
       "7  1.0  0.0  0.0    1.0"
      ]
     },
     "execution_count": 39,
     "metadata": {},
     "output_type": "execute_result"
    }
   ],
   "source": [
    "np.random.seed(1977)\n",
    "data=random_data(3,8)\n",
    "labels=xor(data)\n",
    "to_pandas(data,labels)"
   ]
  },
  {
   "cell_type": "code",
   "execution_count": 40,
   "metadata": {},
   "outputs": [],
   "source": [
    "validation_data=random_data(3,20)\n",
    "validation_labels=xor(validation_data)"
   ]
  },
  {
   "cell_type": "code",
   "execution_count": 41,
   "metadata": {},
   "outputs": [],
   "source": [
    "par=[]\n",
    "for i in range(300):\n",
    "    ann=ANN([3,3],random_weights=True)\n",
    "    m=minimize(function,ann.getpar(),args=(ann,data,labels),jac=True,method='L-BFGS-B')\n",
    "    par.append(m.x)\n"
   ]
  },
  {
   "cell_type": "code",
   "execution_count": 42,
   "metadata": {},
   "outputs": [
    {
     "name": "stderr",
     "output_type": "stream",
     "text": [
      "/opt/local/Library/Frameworks/Python.framework/Versions/3.7/lib/python3.7/site-packages/ipykernel_launcher.py:7: RuntimeWarning: invalid value encountered in true_divide\n",
      "  import sys\n"
     ]
    }
   ],
   "source": [
    "training=[]\n",
    "validation=[]\n",
    "training_MCC=[]\n",
    "validation_MCC=[]\n",
    "for p in par:\n",
    "    ann.setpar(p)\n",
    "    training.append(np.average(softplus(ann.applyVec(data)*(1-2*labels))))\n",
    "    validation.append(np.average(softplus(ann.applyVec(validation_data)*(1-2*validation_labels))))\n",
    "    training_MCC.append(MCC(labels,ann.applyVec(data)))\n",
    "    validation_MCC.append(MCC(validation_labels,ann.applyVec(validation_data)))"
   ]
  },
  {
   "cell_type": "code",
   "execution_count": 43,
   "metadata": {},
   "outputs": [
    {
     "data": {
      "image/png": "[encoded data removed]",
      "text/plain": [
       "<Figure size 432x288 with 1 Axes>"
      ]
     },
     "metadata": {
      "needs_background": "light"
     },
     "output_type": "display_data"
    },
    {
     "data": {
      "image/png": "[encoded data removed]",
      "text/plain": [
       "<Figure size 432x288 with 1 Axes>"
      ]
     },
     "metadata": {
      "needs_background": "light"
     },
     "output_type": "display_data"
    },
    {
     "data": {
      "image/png": "[encoded data removed]",
      "text/plain": [
       "<Figure size 432x288 with 1 Axes>"
      ]
     },
     "metadata": {
      "needs_background": "light"
     },
     "output_type": "display_data"
    },
    {
     "data": {
      "image/png": "[encoded data removed]",
      "text/plain": [
       "<Figure size 432x288 with 1 Axes>"
      ]
     },
     "metadata": {
      "needs_background": "light"
     },
     "output_type": "display_data"
    }
   ],
   "source": [
    "plt.xlabel(\"rank\")\n",
    "plt.ylabel(\"loss\")\n",
    "plt.plot(np.sort(training),\"x-\",label=\"training\")\n",
    "plt.legend()\n",
    "plt.show()\n",
    "\n",
    "plt.xlabel(\"rank\")\n",
    "plt.ylabel(\"loss\")\n",
    "plt.plot(np.array(validation)[np.argsort(training)],\"x-\",label=\"validation\")\n",
    "plt.legend()\n",
    "plt.show()\n",
    "\n",
    "plt.xlabel(\"rank\")\n",
    "plt.ylabel(\"MCC\")\n",
    "plt.plot(np.array(training_MCC)[np.argsort(training)],\"x-\",label=\"training\")\n",
    "plt.legend()\n",
    "plt.show()\n",
    "\n",
    "plt.xlabel(\"rank\")\n",
    "plt.ylabel(\"MCC\")\n",
    "plt.plot(np.array(validation_MCC)[np.argsort(training)],\"x-\",label=\"validation\")\n",
    "plt.legend()\n",
    "plt.show()"
   ]
  },
  {
   "cell_type": "markdown",
   "metadata": {},
   "source": [
    "Even though validation loss function is very large, MCC is good, even though not perfect!"
   ]
  },
  {
   "cell_type": "markdown",
   "metadata": {},
   "source": [
    "Now with more examples"
   ]
  },
  {
   "cell_type": "code",
   "execution_count": 44,
   "metadata": {},
   "outputs": [],
   "source": [
    "np.random.seed(1977)\n",
    "data=random_data(3,24)\n",
    "labels=xor(data)\n",
    "validation_data=random_data(3,20)\n",
    "validation_labels=xor(validation_data)\n",
    "par=[]\n",
    "for i in range(300):\n",
    "    ann=ANN([3,3],random_weights=True)\n",
    "    m=minimize(function,ann.getpar(),args=(ann,data,labels),jac=True,method='L-BFGS-B')\n",
    "    par.append(m.x)"
   ]
  },
  {
   "cell_type": "code",
   "execution_count": 45,
   "metadata": {},
   "outputs": [
    {
     "name": "stderr",
     "output_type": "stream",
     "text": [
      "/opt/local/Library/Frameworks/Python.framework/Versions/3.7/lib/python3.7/site-packages/ipykernel_launcher.py:7: RuntimeWarning: invalid value encountered in true_divide\n",
      "  import sys\n"
     ]
    }
   ],
   "source": [
    "training=[]\n",
    "validation=[]\n",
    "training_MCC=[]\n",
    "validation_MCC=[]\n",
    "for p in par:\n",
    "    ann.setpar(p)\n",
    "    training.append(np.average(softplus(ann.applyVec(data)*(1-2*labels))))\n",
    "    validation.append(np.average(softplus(ann.applyVec(validation_data)*(1-2*validation_labels))))\n",
    "    training_MCC.append(MCC(labels,ann.applyVec(data)))\n",
    "    validation_MCC.append(MCC(validation_labels,ann.applyVec(validation_data)))"
   ]
  },
  {
   "cell_type": "code",
   "execution_count": 46,
   "metadata": {},
   "outputs": [
    {
     "data": {
      "image/png": "[encoded data removed]",
      "text/plain": [
       "<Figure size 432x288 with 1 Axes>"
      ]
     },
     "metadata": {
      "needs_background": "light"
     },
     "output_type": "display_data"
    },
    {
     "data": {
      "image/png": "[encoded data removed]",
      "text/plain": [
       "<Figure size 432x288 with 1 Axes>"
      ]
     },
     "metadata": {
      "needs_background": "light"
     },
     "output_type": "display_data"
    },
    {
     "data": {
      "image/png": "[encoded data removed]",
      "text/plain": [
       "<Figure size 432x288 with 1 Axes>"
      ]
     },
     "metadata": {
      "needs_background": "light"
     },
     "output_type": "display_data"
    },
    {
     "data": {
      "image/png": "[encoded data removed]",
      "text/plain": [
       "<Figure size 432x288 with 1 Axes>"
      ]
     },
     "metadata": {
      "needs_background": "light"
     },
     "output_type": "display_data"
    }
   ],
   "source": [
    "plt.xlabel(\"rank\")\n",
    "plt.ylabel(\"loss\")\n",
    "plt.plot(np.sort(training),\"x-\",label=\"training\")\n",
    "plt.legend()\n",
    "plt.show()\n",
    "\n",
    "plt.xlabel(\"rank\")\n",
    "plt.ylabel(\"loss\")\n",
    "plt.plot(np.array(validation)[np.argsort(training)],\"x-\",label=\"validation\")\n",
    "plt.legend()\n",
    "plt.show()\n",
    "\n",
    "plt.xlabel(\"rank\")\n",
    "plt.ylabel(\"MCC\")\n",
    "plt.plot(np.array(training_MCC)[np.argsort(training)],\"x-\",label=\"training\")\n",
    "plt.legend()\n",
    "plt.show()\n",
    "\n",
    "plt.xlabel(\"rank\")\n",
    "plt.ylabel(\"MCC\")\n",
    "plt.plot(np.array(validation_MCC)[np.argsort(training)],\"x-\",label=\"validation\")\n",
    "plt.legend()\n",
    "plt.show()"
   ]
  },
  {
   "cell_type": "markdown",
   "metadata": {},
   "source": [
    "This is definitely ok."
   ]
  },
  {
   "cell_type": "markdown",
   "metadata": {},
   "source": [
    "Now a larger system. 64 examples on `2**6`=64 possible states."
   ]
  },
  {
   "cell_type": "code",
   "execution_count": 47,
   "metadata": {},
   "outputs": [],
   "source": [
    "np.random.seed(1977)\n",
    "data=random_data(6,64)\n",
    "labels=xor(data)\n",
    "validation_data=random_data(6,64)\n",
    "validation_labels=xor(validation_data)\n",
    "par=[]\n",
    "for i in range(300):\n",
    "    ann=ANN([6,6],random_weights=True)\n",
    "    m=minimize(function,ann.getpar(),args=(ann,data,labels),jac=True,method='L-BFGS-B')\n",
    "    ann.setpar(m.x)\n",
    "    par.append(m.x)\n"
   ]
  },
  {
   "cell_type": "code",
   "execution_count": 48,
   "metadata": {},
   "outputs": [],
   "source": [
    "training=[]\n",
    "validation=[]\n",
    "training_MCC=[]\n",
    "validation_MCC=[]\n",
    "for p in par:\n",
    "    ann.setpar(p)\n",
    "    training.append(np.average(softplus(ann.applyVec(data)*(1-2*labels))))\n",
    "    validation.append(np.average(softplus(ann.applyVec(validation_data)*(1-2*validation_labels))))\n",
    "    training_MCC.append(MCC(labels,ann.applyVec(data)))\n",
    "    validation_MCC.append(MCC(validation_labels,ann.applyVec(validation_data)))"
   ]
  },
  {
   "cell_type": "code",
   "execution_count": 49,
   "metadata": {},
   "outputs": [
    {
     "data": {
      "image/png": "[encoded data removed]",
      "text/plain": [
       "<Figure size 432x288 with 1 Axes>"
      ]
     },
     "metadata": {
      "needs_background": "light"
     },
     "output_type": "display_data"
    },
    {
     "data": {
      "image/png": "[encoded data removed]",
      "text/plain": [
       "<Figure size 432x288 with 1 Axes>"
      ]
     },
     "metadata": {
      "needs_background": "light"
     },
     "output_type": "display_data"
    },
    {
     "data": {
      "image/png": "[encoded data removed]",
      "text/plain": [
       "<Figure size 432x288 with 1 Axes>"
      ]
     },
     "metadata": {
      "needs_background": "light"
     },
     "output_type": "display_data"
    },
    {
     "data": {
      "image/png": "[encoded data removed]",
      "text/plain": [
       "<Figure size 432x288 with 1 Axes>"
      ]
     },
     "metadata": {
      "needs_background": "light"
     },
     "output_type": "display_data"
    }
   ],
   "source": [
    "plt.xlabel(\"rank\")\n",
    "plt.ylabel(\"loss\")\n",
    "plt.plot(np.sort(training),\"x-\",label=\"training\")\n",
    "plt.legend()\n",
    "plt.show()\n",
    "\n",
    "plt.xlabel(\"rank\")\n",
    "plt.ylabel(\"loss\")\n",
    "plt.plot(np.array(validation)[np.argsort(training)],\"x-\",label=\"validation\")\n",
    "plt.legend()\n",
    "plt.show()\n",
    "\n",
    "plt.xlabel(\"rank\")\n",
    "plt.ylabel(\"MCC\")\n",
    "plt.plot(np.array(training_MCC)[np.argsort(training)],\"x-\",label=\"training\")\n",
    "plt.legend()\n",
    "plt.show()\n",
    "\n",
    "plt.xlabel(\"rank\")\n",
    "plt.ylabel(\"MCC\")\n",
    "plt.plot(np.array(validation_MCC)[np.argsort(training)],\"x-\",label=\"validation\")\n",
    "plt.legend()\n",
    "plt.show()"
   ]
  }
 ],
 "metadata": {
  "kernelspec": {
   "display_name": "Python 3",
   "language": "python",
   "name": "python3"
  },
  "language_info": {
   "codemirror_mode": {
    "name": "ipython",
    "version": 3
   },
   "file_extension": ".py",
   "mimetype": "text/x-python",
   "name": "python",
   "nbconvert_exporter": "python",
   "pygments_lexer": "ipython3",
   "version": "3.7.8"
  }
 },
 "nbformat": 4,
 "nbformat_minor": 4
}
